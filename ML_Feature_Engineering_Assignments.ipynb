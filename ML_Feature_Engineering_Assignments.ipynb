{
  "nbformat": 4,
  "nbformat_minor": 0,
  "metadata": {
    "colab": {
      "provenance": []
    },
    "kernelspec": {
      "name": "python3",
      "display_name": "Python 3"
    },
    "language_info": {
      "name": "python"
    }
  },
  "cells": [
    {
      "cell_type": "code",
      "execution_count": null,
      "metadata": {
        "id": "LqIV_WD_TosL"
      },
      "outputs": [],
      "source": []
    },
    {
      "cell_type": "markdown",
      "source": [
        "# 1.What is a parameter?\n",
        " -In machine learning, a parameter is a variable that the model learns from the training data. These values determine how the model makes predictions.\n",
        "\n",
        "# 2.What is correlation?\n",
        " -Correlation is a statistical measure that describes the relationship between two variables. It can positive corellation, negetive corelation or zero correlation.\n",
        "\n",
        "# 3.What does negative correlation mean?\n",
        "-Negative correlation: One variable increases while the other decreases.\n",
        "\n",
        "# 4.Define Machine Learning. What are the main components in Machine Learning?\n",
        " -Machine Learning (ML) is a subset of artificial intelligence (AI) that enables computers to learn patterns from data and make decisions or predictions without being explicitly programmed. Main components are: Data, fetaure, model algorithms, testing, evolution and deployment for real world predictions.\n",
        "\n",
        "# 5.How does loss value help in determining whether the model is good or not?\n",
        " -The loss value measures how far the model's predictions are from the actual values.higher loss suggests poor performance.\n",
        "\n",
        "# 6.What are continuous and categorical variables?\n",
        "-Continuous Variables:Numeric values that can take any value within a range. Example: Height, weight etc.\n",
        "categorical variables: Represent discrete groups or categories.Ex: gender(M/F) etc.\n",
        "\n",
        "# 7.How do we handle categorical variables in Machine Learning? What are the common techniques?\n",
        "- Label Encoding: like Male =0,Female=1, Ordinal Encoding likeLow → 1, Medium → 2, High → 3.\n",
        "\n",
        "# 8.What do you mean by training and testing a dataset?\n",
        "- Training a dataset means using data to help a machine learning model learn patterns and adjust its parameters. Testing a dataset evaluates the trained model's performance on unseen data.\n",
        "\n",
        "# 9.What is sklearn.preprocessing?\n",
        "-It is a module in Scikit-Learn that provides tools for scaling, encoding, and transforming data to improve machine learning model performance.\n",
        "\n",
        "# 10.What is a Test set?\n",
        "-A test set is a separate portion of data used to evaluate a trained machine learning model's performance on unseen data\n",
        "\n",
        "# 11.How do we split data for model fitting (training and testing) in Python?\n",
        "-This splits the data into 80% training and 20% testing\n",
        "\n",
        "# 12.How do you approach a Machine Learning problem?\n",
        "-Approach a Machine Learning problem by defining the problem, collecting data, preprocessing, selecting a model, training, evaluating, tuning, and deploying the model.\n",
        "\n",
        "# 13.Why do we have to perform EDA before fitting a model to the data?\n",
        "# 14.What is correlation?\n",
        "--Correlation is a statistical measure that describes the relationship between two variables. It can positive corellation, negetive corelation or zero correlation\n",
        "\n",
        "# 15.What does negative correlation mean?\n",
        "--Negative correlation: One variable increases while the other decreases.\n",
        "\n",
        "# 16.How can you find correlation between variables in Python?\n",
        "- In PANDAS Module use df.corr() function, it can compute correlation matrix for all numerical variables.\n",
        "\n",
        "# 17.What is causation? Explain difference between correlation and causation with an example.\n",
        "-Causation means that one variable directly affects another, while correlation only indicates a relationship without proving cause.\n",
        "Example:\n",
        "Correlation: Ice cream sales and drowning incidents increase together (both are influenced by hot weather).\n",
        "Causation: Smoking increases the risk of lung cancer (direct cause-effect relationship).\n",
        "\n",
        "# 18.What is an Optimizer? What are different types of optimizers? Explain each with an example.\n",
        "# 19.What is sklearn.linear_model ?\n",
        "-Scikit-Learn module that provides linear models like Linear Regression, Logistic Regression, Ridge, Lasso, and others for regression and classification tasks.\n",
        "\n",
        "# 20.What does model.fit() do? What arguments must be given?\n",
        "- it  trains a machine learning model by learning patterns from input data X and target labels y\n",
        "\n",
        "# 21.What does model.predict() do? What arguments must be given?\n",
        "-uses the trained model to make predictions on new input data X_test and returns the predicted values\n",
        "\n",
        "# 22.What are continuous and categorical variables?\n",
        "--Continuous Variables:Numeric values that can take any value within a range. Example: Height, weight etc.\n",
        "categorical variables: Represent discrete groups or categories.Ex: gender(M/F) etc.\n",
        "\n",
        "# 23.What is feature scaling? How does it help in Machine Learning?\n",
        "-Feature scaling is the process of normalizing or standardizing numerical features to a common scale,helping in model accuracy.\n",
        "\n",
        "# 24.How do we perform scaling in Python?\n",
        "Use StandardScaler or MinMaxScaler from sklearn.preprocessing.\n",
        "# New Section\n",
        "25.What is sklearn.preprocessing?\n",
        "--It is a module in Scikit-Learn that provides tools for scaling, encoding, and transforming data to improve machine learning model performance\n",
        "\n",
        "# 26.How do we split data for model fitting (training and testing) in Python?\n",
        "# Explain data encoding?\n",
        " -This splits the data into 80% training and 20% testing for model training and evaluation. Data encoding can be Label encoding, OHE,Ordinal encoding etc."
      ],
      "metadata": {
        "id": "WqlVGKU7Tvq3"
      }
    }
  ]
}